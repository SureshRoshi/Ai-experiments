{
 "cells": [
  {
   "cell_type": "markdown",
   "metadata": {},
   "source": [
    "# 5a) Prediction\n",
    "Consider a data set and perform univariate linear regression and find the coefficients. Show the relation between independent variable and dependent variable using scatter plot. \n",
    "Show the performance of the model using R-Square error, mean absolute error and Mean Square error.\n"
   ]
  },
  {
   "cell_type": "markdown",
   "metadata": {},
   "source": [
    "# Predict the B.Tech Percentage of a student based on his Intermediate percentage using univariate linear regression ."
   ]
  },
  {
   "cell_type": "code",
   "execution_count": 1,
   "metadata": {},
   "outputs": [],
   "source": [
    "# Import the required packages\n",
    "import pandas as pd # for handling data in the form of tables\n",
    "import numpy as np # For handling matrix\n",
    "from sklearn.model_selection import train_test_split # For spliting the data into train and test\n",
    "from sklearn.linear_model import LinearRegression # for using the model\n",
    "from sklearn import metrics\n",
    "import matplotlib.pyplot as plt # for plotting"
   ]
  },
  {
   "cell_type": "markdown",
   "metadata": {},
   "source": [
    "## 1) Upload the data"
   ]
  },
  {
   "cell_type": "code",
   "execution_count": 2,
   "metadata": {},
   "outputs": [],
   "source": [
    "# Get the data in python environment\n",
    "stu_data=pd.read_csv(\"students_placement_data.csv\")"
   ]
  },
  {
   "cell_type": "code",
   "execution_count": 3,
   "metadata": {},
   "outputs": [
    {
     "data": {
      "text/html": [
       "<div>\n",
       "<style scoped>\n",
       "    .dataframe tbody tr th:only-of-type {\n",
       "        vertical-align: middle;\n",
       "    }\n",
       "\n",
       "    .dataframe tbody tr th {\n",
       "        vertical-align: top;\n",
       "    }\n",
       "\n",
       "    .dataframe thead th {\n",
       "        text-align: right;\n",
       "    }\n",
       "</style>\n",
       "<table border=\"1\" class=\"dataframe\">\n",
       "  <thead>\n",
       "    <tr style=\"text-align: right;\">\n",
       "      <th></th>\n",
       "      <th>Roll No</th>\n",
       "      <th>Gender</th>\n",
       "      <th>Section</th>\n",
       "      <th>SSC Percentage</th>\n",
       "      <th>inter_Diploma_percentage</th>\n",
       "      <th>B.Tech_percentage</th>\n",
       "      <th>Backlogs</th>\n",
       "      <th>registered_for_ Placement_Training</th>\n",
       "      <th>placement status</th>\n",
       "    </tr>\n",
       "  </thead>\n",
       "  <tbody>\n",
       "    <tr>\n",
       "      <th>0</th>\n",
       "      <td>1</td>\n",
       "      <td>M</td>\n",
       "      <td>A</td>\n",
       "      <td>87.3</td>\n",
       "      <td>65.3</td>\n",
       "      <td>40.00</td>\n",
       "      <td>18</td>\n",
       "      <td>NO</td>\n",
       "      <td>Not placed</td>\n",
       "    </tr>\n",
       "    <tr>\n",
       "      <th>1</th>\n",
       "      <td>2</td>\n",
       "      <td>F</td>\n",
       "      <td>A</td>\n",
       "      <td>89.0</td>\n",
       "      <td>92.4</td>\n",
       "      <td>71.45</td>\n",
       "      <td>0</td>\n",
       "      <td>yes</td>\n",
       "      <td>Placed</td>\n",
       "    </tr>\n",
       "    <tr>\n",
       "      <th>2</th>\n",
       "      <td>3</td>\n",
       "      <td>F</td>\n",
       "      <td>A</td>\n",
       "      <td>67.0</td>\n",
       "      <td>68.0</td>\n",
       "      <td>45.26</td>\n",
       "      <td>13</td>\n",
       "      <td>yes</td>\n",
       "      <td>Not placed</td>\n",
       "    </tr>\n",
       "    <tr>\n",
       "      <th>3</th>\n",
       "      <td>4</td>\n",
       "      <td>M</td>\n",
       "      <td>A</td>\n",
       "      <td>71.0</td>\n",
       "      <td>70.4</td>\n",
       "      <td>36.47</td>\n",
       "      <td>17</td>\n",
       "      <td>yes</td>\n",
       "      <td>Not placed</td>\n",
       "    </tr>\n",
       "    <tr>\n",
       "      <th>4</th>\n",
       "      <td>5</td>\n",
       "      <td>M</td>\n",
       "      <td>A</td>\n",
       "      <td>NaN</td>\n",
       "      <td>65.5</td>\n",
       "      <td>42.52</td>\n",
       "      <td>17</td>\n",
       "      <td>yes</td>\n",
       "      <td>Not placed</td>\n",
       "    </tr>\n",
       "  </tbody>\n",
       "</table>\n",
       "</div>"
      ],
      "text/plain": [
       "   Roll No Gender Section  SSC Percentage  inter_Diploma_percentage  \\\n",
       "0        1      M       A            87.3                      65.3   \n",
       "1        2      F       A            89.0                      92.4   \n",
       "2        3      F       A            67.0                      68.0   \n",
       "3        4      M       A            71.0                      70.4   \n",
       "4        5      M       A             NaN                      65.5   \n",
       "\n",
       "   B.Tech_percentage  Backlogs registered_for_ Placement_Training  \\\n",
       "0              40.00        18                                 NO   \n",
       "1              71.45         0                                yes   \n",
       "2              45.26        13                                yes   \n",
       "3              36.47        17                                yes   \n",
       "4              42.52        17                                yes   \n",
       "\n",
       "  placement status  \n",
       "0       Not placed  \n",
       "1           Placed  \n",
       "2       Not placed  \n",
       "3       Not placed  \n",
       "4       Not placed  "
      ]
     },
     "execution_count": 3,
     "metadata": {},
     "output_type": "execute_result"
    }
   ],
   "source": [
    "stu_data.head()"
   ]
  },
  {
   "cell_type": "markdown",
   "metadata": {},
   "source": [
    "## 2) Let's do some preliminary analysis.\n",
    "Find the relation between Intermediate and B.Tech percentage using a simple scatter plot using matplotlib."
   ]
  },
  {
   "cell_type": "code",
   "execution_count": 4,
   "metadata": {},
   "outputs": [
    {
     "data": {
      "text/plain": [
       "<matplotlib.axes._subplots.AxesSubplot at 0x2b3b50935b0>"
      ]
     },
     "execution_count": 4,
     "metadata": {},
     "output_type": "execute_result"
    },
    {
     "data": {
      "image/png": "[encoded data removed]",
      "text/plain": [
       "<Figure size 432x288 with 1 Axes>"
      ]
     },
     "metadata": {
      "needs_background": "light"
     },
     "output_type": "display_data"
    }
   ],
   "source": [
    "stu_data.plot(x='inter_Diploma_percentage',y='B.Tech_percentage',style='o')"
   ]
  },
  {
   "cell_type": "markdown",
   "metadata": {},
   "source": [
    "### From the above graph, it is obvious that this is a possitive correlation between Intermediate and B.Tech percentage. \n",
    "+ve correlation: As, X increases, Y also increases"
   ]
  },
  {
   "cell_type": "markdown",
   "metadata": {},
   "source": [
    "## 3) Now, convert the data into form understandable to machine learning model"
   ]
  },
  {
   "cell_type": "markdown",
   "metadata": {},
   "source": [
    "    Note that, the column values are in the form of series. But a model expect the values in the form of numpy array. So, we should convert the data into [n,1] array( n rows and 1 column )\n",
    "    \n",
    "    Now trying to reshape with (-1, 1) . We have provided column as 1 but rows as unknown . So we get result new shape as 2 dimentions."
   ]
  },
  {
   "cell_type": "code",
   "execution_count": 5,
   "metadata": {},
   "outputs": [],
   "source": [
    "x=stu_data[\"inter_Diploma_percentage\"].values.reshape(-1,1)\n",
    "y=stu_data[\"B.Tech_percentage\"].values.reshape(-1,1)"
   ]
  },
  {
   "cell_type": "code",
   "execution_count": 6,
   "metadata": {},
   "outputs": [
    {
     "name": "stdout",
     "output_type": "stream",
     "text": [
      "(117, 1)\n",
      "(117, 1)\n"
     ]
    }
   ],
   "source": [
    "print(x.shape)\n",
    "print(y.shape)"
   ]
  },
  {
   "cell_type": "markdown",
   "metadata": {},
   "source": [
    "## 4) Divide the data into train and test"
   ]
  },
  {
   "cell_type": "code",
   "execution_count": 7,
   "metadata": {},
   "outputs": [],
   "source": [
    "# Now divide the data into train and test. Here we are keeping 20% as our test set\n",
    "X_train,X_test,Y_train,Y_test=train_test_split(x,y,test_size=0.2,random_state=3)\n",
    "\n",
    "# random state controls the shuffling applied to the data before applying the split. "
   ]
  },
  {
   "cell_type": "code",
   "execution_count": 8,
   "metadata": {},
   "outputs": [
    {
     "name": "stdout",
     "output_type": "stream",
     "text": [
      "X_train- Training data (features) size is  (93, 1)\n",
      "X_test- Test data (features) size is  (24, 1)\n",
      "Y_train- Training data (labels) size is  (93, 1)\n",
      "Y_test- Test data (labels) size is  (24, 1)\n"
     ]
    }
   ],
   "source": [
    "# Printing X_train,X_test,Y_train,Y_test\n",
    "print(\"X_train- Training data (features) size is \",X_train.shape)\n",
    "print(\"X_test- Test data (features) size is \",X_test.shape)\n",
    "print(\"Y_train- Training data (labels) size is \",Y_train.shape)\n",
    "print(\"Y_test- Test data (labels) size is \",Y_test.shape)"
   ]
  },
  {
   "cell_type": "markdown",
   "metadata": {},
   "source": [
    "## 5) Apply the model on training dataset"
   ]
  },
  {
   "cell_type": "code",
   "execution_count": 9,
   "metadata": {},
   "outputs": [
    {
     "data": {
      "text/plain": [
       "LinearRegression()"
      ]
     },
     "execution_count": 9,
     "metadata": {},
     "output_type": "execute_result"
    }
   ],
   "source": [
    "model=LinearRegression()\n",
    "model.fit(X_train,Y_train) \n",
    "# Using \"fit\" function data is given as input to the linear regressor and model is buit (m and c is calculated)."
   ]
  },
  {
   "cell_type": "markdown",
   "metadata": {},
   "source": [
    "## 6) Get the parameters"
   ]
  },
  {
   "cell_type": "markdown",
   "metadata": {},
   "source": [
    "### In y=mx+c, we know that c is intercept and m is slope."
   ]
  },
  {
   "cell_type": "code",
   "execution_count": 10,
   "metadata": {},
   "outputs": [
    {
     "name": "stdout",
     "output_type": "stream",
     "text": [
      "[1.27382373]\n"
     ]
    }
   ],
   "source": [
    "print(model.intercept_)  # This is our 'intercept'"
   ]
  },
  {
   "cell_type": "code",
   "execution_count": 11,
   "metadata": {},
   "outputs": [
    {
     "name": "stdout",
     "output_type": "stream",
     "text": [
      "[[0.76231957]]\n"
     ]
    }
   ],
   "source": [
    "print(model.coef_) # This is our 'slope'"
   ]
  },
  {
   "cell_type": "markdown",
   "metadata": {},
   "source": [
    "## 7) Now we apply the model on testset."
   ]
  },
  {
   "cell_type": "code",
   "execution_count": 12,
   "metadata": {},
   "outputs": [
    {
     "data": {
      "text/plain": [
       "array([[69.04403358],\n",
       "       [53.11155455],\n",
       "       [44.34487948],\n",
       "       [52.73039476],\n",
       "       [50.21474018],\n",
       "       [62.56431723],\n",
       "       [70.94983251],\n",
       "       [60.96344613],\n",
       "       [64.79791357],\n",
       "       [53.03532259],\n",
       "       [65.15620377],\n",
       "       [72.85563143],\n",
       "       [69.80635315],\n",
       "       [65.38489964],\n",
       "       [70.18751294],\n",
       "       [61.192142  ],\n",
       "       [51.20575562],\n",
       "       [47.24169385],\n",
       "       [56.9231524 ],\n",
       "       [57.22808023],\n",
       "       [61.03967809],\n",
       "       [46.25067841],\n",
       "       [65.61359551],\n",
       "       [66.83330682]])"
      ]
     },
     "execution_count": 12,
     "metadata": {},
     "output_type": "execute_result"
    }
   ],
   "source": [
    "predicted_btech=model.predict(X_test) # Predict the weights of people in based on their heights\n",
    "predicted_btech"
   ]
  },
  {
   "cell_type": "markdown",
   "metadata": {},
   "source": [
    "## 8) Let's keep predicted B.Tech marks and Actual B.tech marks for better readability"
   ]
  },
  {
   "cell_type": "code",
   "execution_count": 13,
   "metadata": {},
   "outputs": [
    {
     "data": {
      "text/html": [
       "<div>\n",
       "<style scoped>\n",
       "    .dataframe tbody tr th:only-of-type {\n",
       "        vertical-align: middle;\n",
       "    }\n",
       "\n",
       "    .dataframe tbody tr th {\n",
       "        vertical-align: top;\n",
       "    }\n",
       "\n",
       "    .dataframe thead th {\n",
       "        text-align: right;\n",
       "    }\n",
       "</style>\n",
       "<table border=\"1\" class=\"dataframe\">\n",
       "  <thead>\n",
       "    <tr style=\"text-align: right;\">\n",
       "      <th></th>\n",
       "      <th>predicted</th>\n",
       "      <th>Actual</th>\n",
       "    </tr>\n",
       "  </thead>\n",
       "  <tbody>\n",
       "    <tr>\n",
       "      <th>0</th>\n",
       "      <td>69.044034</td>\n",
       "      <td>63.00</td>\n",
       "    </tr>\n",
       "    <tr>\n",
       "      <th>1</th>\n",
       "      <td>53.111555</td>\n",
       "      <td>62.20</td>\n",
       "    </tr>\n",
       "    <tr>\n",
       "      <th>2</th>\n",
       "      <td>44.344879</td>\n",
       "      <td>33.77</td>\n",
       "    </tr>\n",
       "    <tr>\n",
       "      <th>3</th>\n",
       "      <td>52.730395</td>\n",
       "      <td>45.45</td>\n",
       "    </tr>\n",
       "    <tr>\n",
       "      <th>4</th>\n",
       "      <td>50.214740</td>\n",
       "      <td>65.46</td>\n",
       "    </tr>\n",
       "    <tr>\n",
       "      <th>5</th>\n",
       "      <td>62.564317</td>\n",
       "      <td>72.73</td>\n",
       "    </tr>\n",
       "    <tr>\n",
       "      <th>6</th>\n",
       "      <td>70.949833</td>\n",
       "      <td>72.74</td>\n",
       "    </tr>\n",
       "    <tr>\n",
       "      <th>7</th>\n",
       "      <td>60.963446</td>\n",
       "      <td>55.82</td>\n",
       "    </tr>\n",
       "    <tr>\n",
       "      <th>8</th>\n",
       "      <td>64.797914</td>\n",
       "      <td>65.53</td>\n",
       "    </tr>\n",
       "    <tr>\n",
       "      <th>9</th>\n",
       "      <td>53.035323</td>\n",
       "      <td>53.26</td>\n",
       "    </tr>\n",
       "    <tr>\n",
       "      <th>10</th>\n",
       "      <td>65.156204</td>\n",
       "      <td>69.48</td>\n",
       "    </tr>\n",
       "    <tr>\n",
       "      <th>11</th>\n",
       "      <td>72.855631</td>\n",
       "      <td>78.60</td>\n",
       "    </tr>\n",
       "    <tr>\n",
       "      <th>12</th>\n",
       "      <td>69.806353</td>\n",
       "      <td>76.30</td>\n",
       "    </tr>\n",
       "    <tr>\n",
       "      <th>13</th>\n",
       "      <td>65.384900</td>\n",
       "      <td>72.57</td>\n",
       "    </tr>\n",
       "    <tr>\n",
       "      <th>14</th>\n",
       "      <td>70.187513</td>\n",
       "      <td>70.30</td>\n",
       "    </tr>\n",
       "    <tr>\n",
       "      <th>15</th>\n",
       "      <td>61.192142</td>\n",
       "      <td>35.84</td>\n",
       "    </tr>\n",
       "    <tr>\n",
       "      <th>16</th>\n",
       "      <td>51.205756</td>\n",
       "      <td>42.52</td>\n",
       "    </tr>\n",
       "    <tr>\n",
       "      <th>17</th>\n",
       "      <td>47.241694</td>\n",
       "      <td>54.74</td>\n",
       "    </tr>\n",
       "    <tr>\n",
       "      <th>18</th>\n",
       "      <td>56.923152</td>\n",
       "      <td>42.17</td>\n",
       "    </tr>\n",
       "    <tr>\n",
       "      <th>19</th>\n",
       "      <td>57.228080</td>\n",
       "      <td>52.00</td>\n",
       "    </tr>\n",
       "    <tr>\n",
       "      <th>20</th>\n",
       "      <td>61.039678</td>\n",
       "      <td>65.70</td>\n",
       "    </tr>\n",
       "    <tr>\n",
       "      <th>21</th>\n",
       "      <td>46.250678</td>\n",
       "      <td>51.06</td>\n",
       "    </tr>\n",
       "    <tr>\n",
       "      <th>22</th>\n",
       "      <td>65.613596</td>\n",
       "      <td>72.57</td>\n",
       "    </tr>\n",
       "    <tr>\n",
       "      <th>23</th>\n",
       "      <td>66.833307</td>\n",
       "      <td>75.96</td>\n",
       "    </tr>\n",
       "  </tbody>\n",
       "</table>\n",
       "</div>"
      ],
      "text/plain": [
       "    predicted  Actual\n",
       "0   69.044034   63.00\n",
       "1   53.111555   62.20\n",
       "2   44.344879   33.77\n",
       "3   52.730395   45.45\n",
       "4   50.214740   65.46\n",
       "5   62.564317   72.73\n",
       "6   70.949833   72.74\n",
       "7   60.963446   55.82\n",
       "8   64.797914   65.53\n",
       "9   53.035323   53.26\n",
       "10  65.156204   69.48\n",
       "11  72.855631   78.60\n",
       "12  69.806353   76.30\n",
       "13  65.384900   72.57\n",
       "14  70.187513   70.30\n",
       "15  61.192142   35.84\n",
       "16  51.205756   42.52\n",
       "17  47.241694   54.74\n",
       "18  56.923152   42.17\n",
       "19  57.228080   52.00\n",
       "20  61.039678   65.70\n",
       "21  46.250678   51.06\n",
       "22  65.613596   72.57\n",
       "23  66.833307   75.96"
      ]
     },
     "execution_count": 13,
     "metadata": {},
     "output_type": "execute_result"
    }
   ],
   "source": [
    "#  flatten() function is used to get a copy of an given array collapsed into one dimension. \n",
    "Actual_predicted=pd.DataFrame({'predicted':predicted_btech.flatten(), 'Actual':Y_test.flatten()})\n",
    "Actual_predicted"
   ]
  },
  {
   "cell_type": "markdown",
   "metadata": {},
   "source": [
    "## 9) Let's see the performance of model visually\n",
    "Red points are actual B.tech score of students. And Blue line is model's approximation of B.tech percentage based on intermediate percentage "
   ]
  },
  {
   "cell_type": "code",
   "execution_count": 14,
   "metadata": {},
   "outputs": [
    {
     "data": {
      "text/plain": [
       "Text(0, 0.5, 'B.Tech')"
      ]
     },
     "execution_count": 14,
     "metadata": {},
     "output_type": "execute_result"
    },
    {
     "data": {
      "image/png": "[encoded data removed]",
      "text/plain": [
       "<Figure size 432x288 with 1 Axes>"
      ]
     },
     "metadata": {
      "needs_background": "light"
     },
     "output_type": "display_data"
    }
   ],
   "source": [
    "plt.scatter(X_test,Y_test,color='red') # Original values are plotted in red\n",
    "plt.plot(X_test,predicted_btech, color='blue') # Predicted values are plotted in blue\n",
    "plt.xlabel(\"Inter\") # Name of X-axis\n",
    "plt.ylabel(\"B.Tech\") # Name of Y-axis"
   ]
  },
  {
   "cell_type": "markdown",
   "metadata": {},
   "source": [
    "## 10) Check the performance of the model"
   ]
  },
  {
   "cell_type": "code",
   "execution_count": 15,
   "metadata": {},
   "outputs": [
    {
     "name": "stdout",
     "output_type": "stream",
     "text": [
      "Mean absolute error: 7.384110415728863\n",
      "Mean squared error: 82.97454278530194\n",
      "R square 0.5197791413548358\n",
      "Root Mean squared error: 9.109036325830628\n"
     ]
    }
   ],
   "source": [
    "print('Mean absolute error:',metrics.mean_absolute_error(Y_test, predicted_btech))\n",
    "print('Mean squared error:',metrics.mean_squared_error(Y_test, predicted_btech))\n",
    "print(\"R square\",metrics.r2_score(Y_test, predicted_btech))\n",
    "print('Root Mean squared error:',np.sqrt(metrics.mean_squared_error(Y_test, predicted_btech)))"
   ]
  },
  {
   "cell_type": "markdown",
   "metadata": {},
   "source": [
    "## 11) Say a student got 95% in Intermediate. How much B.Tech percentage he/she scores in B.Tech?"
   ]
  },
  {
   "cell_type": "code",
   "execution_count": 16,
   "metadata": {},
   "outputs": [
    {
     "name": "stdout",
     "output_type": "stream",
     "text": [
      "[[73.69418296]]\n"
     ]
    }
   ],
   "source": [
    "a=np.array(95) # Let's predict the weight of a person given his height as 188 cm\n",
    "print(model.predict(a.reshape(1, -1)))"
   ]
  },
  {
   "cell_type": "markdown",
   "metadata": {},
   "source": [
    "## So, he/she may score approximately 74% in B.Tech \n",
    "(Note the answer may vary because of random picking of rows in train and test set)"
   ]
  }
 ],
 "metadata": {
  "kernelspec": {
   "display_name": "Python 3",
   "language": "python",
   "name": "python3"
  },
  "language_info": {
   "codemirror_mode": {
    "name": "ipython",
    "version": 3
   },
   "file_extension": ".py",
   "mimetype": "text/x-python",
   "name": "python",
   "nbconvert_exporter": "python",
   "pygments_lexer": "ipython3",
   "version": "3.8.3"
  }
 },
 "nbformat": 4,
 "nbformat_minor": 2
}
