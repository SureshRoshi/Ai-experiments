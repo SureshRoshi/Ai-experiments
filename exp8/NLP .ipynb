{
 "cells": [
  {
   "cell_type": "markdown",
   "metadata": {},
   "source": [
    "# 8) Natural Language processing\n",
    "Natural Language Processing is the technology used to aid computers to understand the human’s natural language like English. The objective of NLP is to read, understand, and make sense of the human languages. NLP techniques rely on machine learning to derive meaning from human languages.\n",
    "\n",
    "#### NLTK is a python package to handle text data.\n",
    "\n",
    "## a) Use NLTK package and perform the following\n",
    "* Tokenization\n",
    "* Stemming\n",
    "* Lemmatization\n",
    "* Bag of words\n",
    "* TF/IDF\n",
    "\n",
    "## b) Given set of documents, use NLTK to classify them.\n",
    "\n",
    "Sentence tokenization\n",
    "Word tokenization\n",
    "Frequency distribution of words in a document\n",
    "Stop words\n",
    "Stemming\n",
    "Normalization\n",
    "POS Tagger\n",
    "\n",
    "\n",
    "At the end Sentiment analysis is performed on movie reviews dataset using Naivebayes theorm.\n",
    "\n",
    "TF-IDF is used for word vectorization"
   ]
  },
  {
   "cell_type": "code",
   "execution_count": 26,
   "metadata": {},
   "outputs": [],
   "source": [
    "#import nltk package\n",
    "import nltk"
   ]
  },
  {
   "cell_type": "markdown",
   "metadata": {},
   "source": [
    "## 1)Tokenization\n",
    "Tokenization is the first step in text analytics. The process of breaking down a text paragraph into smaller chunks such as words or sentence is called Tokenization. Token is a single entity that is building blocks for sentence or paragraph."
   ]
  },
  {
   "cell_type": "markdown",
   "metadata": {},
   "source": [
    "## 1 a) Sentence Tokenization\n",
    "Sentence tokenizer breaks text paragraph into sentences.\n",
    "\n",
    "Note: You should download **nltk.download('punkt')** before using \"sentence tokenizer.\n",
    "\n",
    "This tokenizer divides a text into a list of sentences, by using an unsupervised algorithm to build a model for abbreviation words, collocations, and words that start sentences. "
   ]
  },
  {
   "cell_type": "code",
   "execution_count": 27,
   "metadata": {},
   "outputs": [
    {
     "name": "stdout",
     "output_type": "stream",
     "text": [
      "[' I study in Vishnu Institute of Technology.', 'VITB rocks.']\n"
     ]
    }
   ],
   "source": [
    "from nltk.tokenize import sent_tokenize\n",
    "# nltk.download('punkt')\n",
    "text=\" I study in Vishnu Institute of Technology. VITB rocks.\"\n",
    "tokenized_text=sent_tokenize(text)\n",
    "print(tokenized_text)"
   ]
  },
  {
   "cell_type": "markdown",
   "metadata": {},
   "source": [
    "## 1 b) Word Tokenization\n",
    "Word tokenizer breaks text paragraph into words."
   ]
  },
  {
   "cell_type": "code",
   "execution_count": 28,
   "metadata": {},
   "outputs": [
    {
     "name": "stdout",
     "output_type": "stream",
     "text": [
      "['I', 'study', 'in', 'Vishnu', 'Institute', 'of', 'Technology', '.', 'VITB', 'rocks', '.']\n"
     ]
    }
   ],
   "source": [
    "from nltk.tokenize import word_tokenize\n",
    "\n",
    "tokenized_word=word_tokenize(text)\n",
    "print(tokenized_word)"
   ]
  },
  {
   "cell_type": "markdown",
   "metadata": {},
   "source": [
    "## 2) Stop words\n",
    "\n",
    "Stopwords considered as noise in the text. Text may contain stop words such as **is, am, are, this, a, an, the** etc.\n",
    "\n",
    "In NLTK for removing stopwords, you need to create a list of stopwords and filter out your list of tokens from these words."
   ]
  },
  {
   "cell_type": "code",
   "execution_count": 29,
   "metadata": {},
   "outputs": [
    {
     "name": "stdout",
     "output_type": "stream",
     "text": [
      "{'myself', 'hasn', 'at', 'are', 'ain', \"couldn't\", 'their', 't', 'our', 'my', 'those', 'mustn', \"aren't\", 'for', 'it', 'this', 'too', 'was', 'being', 'ma', 'yourselves', 'am', 'while', 'now', 'isn', 'can', 'me', 'or', 'theirs', 'by', 'whom', 'm', 'then', 'over', 'ours', 'having', 'don', 'the', 'most', 'against', 'its', \"you've\", 'of', 'weren', 'with', 'an', \"haven't\", 'been', 'his', 'such', 'himself', \"weren't\", 'some', 'where', 'further', 'o', 'any', \"hadn't\", 'wouldn', 'd', 'do', 'more', 'which', 'have', 'should', 'he', 'between', \"should've\", 'about', 'him', 'who', 'is', 'again', 'these', 'after', 'both', 'she', 'them', 'into', 'doing', \"mightn't\", \"shouldn't\", 'and', \"shan't\", 'same', 'why', 'you', 'a', 'has', 'once', 'than', \"didn't\", 'yourself', 'that', 'because', 've', 'couldn', 'itself', 'didn', 'there', 'aren', 'how', 'they', 'won', 'doesn', \"wouldn't\", 'needn', 'before', 'did', 'above', 'herself', 'out', 's', \"you'd\", 'through', 'not', 'mightn', 'in', 'll', \"it's\", \"hasn't\", 'under', 'just', 'if', 'yours', 'on', 'will', 'off', 'from', \"that'll\", 'up', 'nor', 'own', 'few', 'all', 'haven', 'so', 'but', 'we', 'here', \"isn't\", 'shouldn', 'only', \"she's\", \"won't\", \"you'll\", 'as', \"mustn't\", 'ourselves', 'down', 'had', 'hadn', 'i', 'themselves', 'very', \"doesn't\", 'your', 'were', 'below', 'her', 'y', 'shan', \"you're\", 'what', 'hers', 'does', 'each', \"wasn't\", 'until', \"don't\", 'wasn', 'to', 'when', 'during', \"needn't\", 'no', 're', 'be', 'other'}\n"
     ]
    },
    {
     "name": "stderr",
     "output_type": "stream",
     "text": [
      "[nltk_data] Downloading package stopwords to\n",
      "[nltk_data]     C:\\Users\\immid\\AppData\\Roaming\\nltk_data...\n",
      "[nltk_data]   Package stopwords is already up-to-date!\n"
     ]
    }
   ],
   "source": [
    "#let's list out stopwords available in NLTK package. \n",
    "\n",
    "from nltk.corpus import stopwords\n",
    "nltk.download('stopwords')\n",
    "stop_words=set(stopwords.words(\"english\"))\n",
    "print(stop_words)"
   ]
  },
  {
   "cell_type": "code",
   "execution_count": 30,
   "metadata": {},
   "outputs": [
    {
     "name": "stdout",
     "output_type": "stream",
     "text": [
      "Tokenized version: ['I', 'study', 'in', 'Vishnu', 'Institute', 'of', 'Technology', '.', 'VITB', 'rocks', '.']\n",
      "\n",
      "\n",
      "Filterd Version (After removing stopwords): ['I', 'study', 'Vishnu', 'Institute', 'Technology', '.', 'VITB', 'rocks', '.']\n"
     ]
    }
   ],
   "source": [
    "#let's list the tokenized sentence and the filtered one\n",
    "\n",
    "filtered_sent=[]\n",
    "for w in tokenized_word:\n",
    "  if w not in stop_words:\n",
    "    filtered_sent.append(w)\n",
    "print(\"Tokenized version:\",tokenized_word)\n",
    "print(\"\\n\")\n",
    "print(\"Filterd Version (After removing stopwords):\",filtered_sent)"
   ]
  },
  {
   "cell_type": "markdown",
   "metadata": {},
   "source": [
    "## 2) Normalization\n",
    "There are 2 types of normalizations\n",
    "\n",
    "* Stemming\n",
    "* Lemmatization"
   ]
  },
  {
   "cell_type": "markdown",
   "metadata": {},
   "source": [
    "## Stemming\n",
    "Stemming is a process of linguistic normalization, which reduces words to their root word or chops off the derivational affixes. For example, **connection, connected, connecting** word reduce to a common word **\"connect\"**."
   ]
  },
  {
   "cell_type": "code",
   "execution_count": 31,
   "metadata": {},
   "outputs": [
    {
     "name": "stdout",
     "output_type": "stream",
     "text": [
      "Filtered Sentence: ['I', 'study', 'Vishnu', 'Institute', 'Technology', '.', 'VITB', 'rocks', '.']\n",
      "\n",
      "\n",
      "Stemmed Sentence: ['I', 'studi', 'vishnu', 'institut', 'technolog', '.', 'vitb', 'rock', '.']\n"
     ]
    }
   ],
   "source": [
    "from nltk.stem import PorterStemmer\n",
    "\n",
    "ps = PorterStemmer()\n",
    "stemmed_words=[]\n",
    "for w in filtered_sent:\n",
    "  stemmed_words.append(ps.stem(w))\n",
    "print(\"Filtered Sentence:\",filtered_sent)\n",
    "print(\"\\n\")\n",
    "print(\"Stemmed Sentence:\",stemmed_words)"
   ]
  },
  {
   "cell_type": "markdown",
   "metadata": {},
   "source": [
    "## Lemmatization\n",
    "Lemmatization reduces words to their base word, which is linguistically correct lemmas. It transforms root word with the use of vocabulary and morphological analysis. Lemmatization is usually more sophisticated than stemming. Stemmer works on an individual word without knowledge of the context. For example, The word \"better\" has \"good\" as its lemma. This thing will miss by stemming because it requires a dictionary look-up."
   ]
  },
  {
   "cell_type": "code",
   "execution_count": 32,
   "metadata": {},
   "outputs": [
    {
     "name": "stdout",
     "output_type": "stream",
     "text": [
      "Filtered Sentence: ['I', 'study', 'Vishnu', 'Institute', 'Technology', '.', 'VITB', 'rocks', '.']\n",
      "\n",
      "\n",
      "lemmitizer Sentence: ['I', 'study', 'Vishnu', 'Institute', 'Technology', '.', 'VITB', 'rock', '.']\n"
     ]
    }
   ],
   "source": [
    "from nltk.stem.wordnet import WordNetLemmatizer\n",
    "# nltk.download('wordnet')\n",
    "\n",
    "lem = WordNetLemmatizer()\n",
    "lemmitized_words=[]\n",
    "for w in filtered_sent:\n",
    "  lemmitized_words.append(lem.lemmatize(w))\n",
    "print(\"Filtered Sentence:\",filtered_sent)\n",
    "print(\"\\n\")\n",
    "print(\"lemmitizer Sentence:\",lemmitized_words)"
   ]
  },
  {
   "cell_type": "markdown",
   "metadata": {},
   "source": [
    "## 3) Bag of words\n",
    "For the bag of words implementation, we use **CountVectorizer** from scikit-learn, which counts the frequency of each word present in our pre-processed dataset."
   ]
  },
  {
   "cell_type": "code",
   "execution_count": 38,
   "metadata": {},
   "outputs": [],
   "source": [
    "from sklearn.feature_extraction.text import CountVectorizer\n",
    "data = CountVectorizer(max_features=2000)\n",
    "X = data.fit_transform(lemmitized_words).toarray()"
   ]
  },
  {
   "cell_type": "code",
   "execution_count": 42,
   "metadata": {},
   "outputs": [
    {
     "data": {
      "text/plain": [
       "array([[0, 0, 0, 0, 0, 0],\n",
       "       [0, 0, 1, 0, 0, 0],\n",
       "       [0, 0, 0, 0, 1, 0],\n",
       "       [1, 0, 0, 0, 0, 0],\n",
       "       [0, 0, 0, 1, 0, 0],\n",
       "       [0, 0, 0, 0, 0, 0],\n",
       "       [0, 0, 0, 0, 0, 1],\n",
       "       [0, 1, 0, 0, 0, 0],\n",
       "       [0, 0, 0, 0, 0, 0]], dtype=int64)"
      ]
     },
     "execution_count": 42,
     "metadata": {},
     "output_type": "execute_result"
    }
   ],
   "source": [
    "X"
   ]
  },
  {
   "cell_type": "code",
   "execution_count": 43,
   "metadata": {},
   "outputs": [
    {
     "data": {
      "text/plain": [
       "{'study': 2,\n",
       " 'vishnu': 4,\n",
       " 'institute': 0,\n",
       " 'technology': 3,\n",
       " 'vitb': 5,\n",
       " 'rock': 1}"
      ]
     },
     "execution_count": 43,
     "metadata": {},
     "output_type": "execute_result"
    }
   ],
   "source": [
    "data.vocabulary_"
   ]
  },
  {
   "attachments": {
    "1_GIb1j98BvG5oLjMqWMC3NA.png": {
     "image/png": "[encoded data removed]"
    }
   },
   "cell_type": "markdown",
   "metadata": {},
   "source": [
    "\n",
    "\n",
    "![1_GIb1j98BvG5oLjMqWMC3NA.png](attachment:1_GIb1j98BvG5oLjMqWMC3NA.png)"
   ]
  },
  {
   "cell_type": "code",
   "execution_count": 14,
   "metadata": {},
   "outputs": [],
   "source": [
    "# Import pandas\n",
    "import pandas as pd"
   ]
  },
  {
   "cell_type": "code",
   "execution_count": 16,
   "metadata": {},
   "outputs": [
    {
     "data": {
      "text/html": [
       "<div>\n",
       "<style scoped>\n",
       "    .dataframe tbody tr th:only-of-type {\n",
       "        vertical-align: middle;\n",
       "    }\n",
       "\n",
       "    .dataframe tbody tr th {\n",
       "        vertical-align: top;\n",
       "    }\n",
       "\n",
       "    .dataframe thead th {\n",
       "        text-align: right;\n",
       "    }\n",
       "</style>\n",
       "<table border=\"1\" class=\"dataframe\">\n",
       "  <thead>\n",
       "    <tr style=\"text-align: right;\">\n",
       "      <th></th>\n",
       "      <th>PhraseId</th>\n",
       "      <th>SentenceId</th>\n",
       "      <th>Phrase</th>\n",
       "      <th>Sentiment</th>\n",
       "    </tr>\n",
       "  </thead>\n",
       "  <tbody>\n",
       "    <tr>\n",
       "      <th>0</th>\n",
       "      <td>1</td>\n",
       "      <td>1</td>\n",
       "      <td>A series of escapades demonstrating the adage ...</td>\n",
       "      <td>1</td>\n",
       "    </tr>\n",
       "    <tr>\n",
       "      <th>1</th>\n",
       "      <td>2</td>\n",
       "      <td>1</td>\n",
       "      <td>A series of escapades demonstrating the adage ...</td>\n",
       "      <td>2</td>\n",
       "    </tr>\n",
       "    <tr>\n",
       "      <th>2</th>\n",
       "      <td>3</td>\n",
       "      <td>1</td>\n",
       "      <td>A series</td>\n",
       "      <td>2</td>\n",
       "    </tr>\n",
       "    <tr>\n",
       "      <th>3</th>\n",
       "      <td>4</td>\n",
       "      <td>1</td>\n",
       "      <td>A</td>\n",
       "      <td>2</td>\n",
       "    </tr>\n",
       "    <tr>\n",
       "      <th>4</th>\n",
       "      <td>5</td>\n",
       "      <td>1</td>\n",
       "      <td>series</td>\n",
       "      <td>2</td>\n",
       "    </tr>\n",
       "  </tbody>\n",
       "</table>\n",
       "</div>"
      ],
      "text/plain": [
       "   PhraseId  SentenceId                                             Phrase  \\\n",
       "0         1           1  A series of escapades demonstrating the adage ...   \n",
       "1         2           1  A series of escapades demonstrating the adage ...   \n",
       "2         3           1                                           A series   \n",
       "3         4           1                                                  A   \n",
       "4         5           1                                             series   \n",
       "\n",
       "   Sentiment  \n",
       "0          1  \n",
       "1          2  \n",
       "2          2  \n",
       "3          2  \n",
       "4          2  "
      ]
     },
     "execution_count": 16,
     "metadata": {},
     "output_type": "execute_result"
    }
   ],
   "source": [
    "data=pd.read_csv('train.tsv', sep='\\t')\n",
    "data.head()"
   ]
  },
  {
   "cell_type": "code",
   "execution_count": 17,
   "metadata": {},
   "outputs": [
    {
     "data": {
      "text/plain": [
       "2    79582\n",
       "3    32927\n",
       "1    27273\n",
       "4     9206\n",
       "0     7072\n",
       "Name: Sentiment, dtype: int64"
      ]
     },
     "execution_count": 17,
     "metadata": {},
     "output_type": "execute_result"
    }
   ],
   "source": [
    "data.Sentiment.value_counts()"
   ]
  },
  {
   "cell_type": "code",
   "execution_count": 18,
   "metadata": {},
   "outputs": [],
   "source": [
    "from sklearn.feature_extraction.text import TfidfVectorizer\n",
    "tf=TfidfVectorizer()\n",
    "text_tf= tf.fit_transform(data['Phrase'])"
   ]
  },
  {
   "cell_type": "code",
   "execution_count": 19,
   "metadata": {},
   "outputs": [],
   "source": [
    "from sklearn.model_selection import train_test_split\n",
    "X_train, X_test, y_train, y_test = train_test_split(text_tf, data['Sentiment'], test_size=0.3, random_state=123)"
   ]
  },
  {
   "cell_type": "code",
   "execution_count": 22,
   "metadata": {},
   "outputs": [
    {
     "name": "stdout",
     "output_type": "stream",
     "text": [
      "MultinomialNB Accuracy: 0.5865265496176684\n"
     ]
    }
   ],
   "source": [
    "from sklearn.naive_bayes import MultinomialNB\n",
    "from sklearn import metrics\n",
    "# Model Generation Using Multinomial Naive Bayes\n",
    "clf = MultinomialNB().fit(X_train, y_train)\n",
    "predicted= clf.predict(X_test)\n",
    "print(\"MultinomialNB Accuracy:\",metrics.accuracy_score(y_test, predicted))"
   ]
  },
  {
   "cell_type": "code",
   "execution_count": null,
   "metadata": {},
   "outputs": [],
   "source": []
  }
 ],
 "metadata": {
  "kernelspec": {
   "display_name": "Python 3",
   "language": "python",
   "name": "python3"
  },
  "language_info": {
   "codemirror_mode": {
    "name": "ipython",
    "version": 3
   },
   "file_extension": ".py",
   "mimetype": "text/x-python",
   "name": "python",
   "nbconvert_exporter": "python",
   "pygments_lexer": "ipython3",
   "version": "3.8.3"
  }
 },
 "nbformat": 4,
 "nbformat_minor": 2
}
