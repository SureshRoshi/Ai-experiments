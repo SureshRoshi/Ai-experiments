{
 "cells": [
  {
   "cell_type": "markdown",
   "metadata": {},
   "source": [
    "4) Basic statistics for machine learning: \n",
    "\n",
    "Consider a dataset. Apply the following statistical operations on it.\n",
    "\n",
    "i) Central Tendency- Mean, Median, Mode\n",
    "\n",
    "ii) Distribution of Data- Range, Interquartile range, Variance, Standard deviation, Correlation.\n",
    "\n",
    "iii) Draw a box plot to demonstrate Range, Interquartile range.\n",
    "\n",
    "iv) Show correlation between 2 variables using scatter plot.\n",
    "\n",
    "V) Draw histogram to show how data is distributed.\n",
    "\n",
    "Vi) For the given data, show which attributes as a) continuous b) Ordered c) Binary\n"
   ]
  },
  {
   "cell_type": "markdown",
   "metadata": {},
   "source": [
    "# Basic statistics for machine learning."
   ]
  },
  {
   "cell_type": "code",
   "execution_count": 119,
   "metadata": {},
   "outputs": [],
   "source": [
    "# import the necessary packages.\n",
    "\n",
    "import pandas as pd\n",
    "import numpy as np\n",
    "import matplotlib.pyplot as plt\n",
    "import seaborn as sns"
   ]
  },
  {
   "cell_type": "markdown",
   "metadata": {},
   "source": [
    "# Import the data."
   ]
  },
  {
   "cell_type": "code",
   "execution_count": 120,
   "metadata": {},
   "outputs": [
    {
     "data": {
      "text/html": [
       "<div>\n",
       "<style scoped>\n",
       "    .dataframe tbody tr th:only-of-type {\n",
       "        vertical-align: middle;\n",
       "    }\n",
       "\n",
       "    .dataframe tbody tr th {\n",
       "        vertical-align: top;\n",
       "    }\n",
       "\n",
       "    .dataframe thead th {\n",
       "        text-align: right;\n",
       "    }\n",
       "</style>\n",
       "<table border=\"1\" class=\"dataframe\">\n",
       "  <thead>\n",
       "    <tr style=\"text-align: right;\">\n",
       "      <th></th>\n",
       "      <th>Roll No</th>\n",
       "      <th>Gender</th>\n",
       "      <th>Section</th>\n",
       "      <th>SSC Percentage</th>\n",
       "      <th>inter_Diploma_percentage</th>\n",
       "      <th>B.Tech_percentage</th>\n",
       "      <th>Backlogs</th>\n",
       "      <th>registered_for_ Placement_Training</th>\n",
       "      <th>placement status</th>\n",
       "    </tr>\n",
       "  </thead>\n",
       "  <tbody>\n",
       "    <tr>\n",
       "      <th>0</th>\n",
       "      <td>1</td>\n",
       "      <td>M</td>\n",
       "      <td>A</td>\n",
       "      <td>87.3</td>\n",
       "      <td>65.3</td>\n",
       "      <td>40.00</td>\n",
       "      <td>18</td>\n",
       "      <td>NO</td>\n",
       "      <td>Not placed</td>\n",
       "    </tr>\n",
       "    <tr>\n",
       "      <th>1</th>\n",
       "      <td>2</td>\n",
       "      <td>F</td>\n",
       "      <td>A</td>\n",
       "      <td>89.0</td>\n",
       "      <td>92.4</td>\n",
       "      <td>71.45</td>\n",
       "      <td>0</td>\n",
       "      <td>yes</td>\n",
       "      <td>Placed</td>\n",
       "    </tr>\n",
       "    <tr>\n",
       "      <th>2</th>\n",
       "      <td>3</td>\n",
       "      <td>F</td>\n",
       "      <td>A</td>\n",
       "      <td>67.0</td>\n",
       "      <td>68.0</td>\n",
       "      <td>45.26</td>\n",
       "      <td>13</td>\n",
       "      <td>yes</td>\n",
       "      <td>Not placed</td>\n",
       "    </tr>\n",
       "    <tr>\n",
       "      <th>3</th>\n",
       "      <td>4</td>\n",
       "      <td>M</td>\n",
       "      <td>A</td>\n",
       "      <td>71.0</td>\n",
       "      <td>70.4</td>\n",
       "      <td>36.47</td>\n",
       "      <td>17</td>\n",
       "      <td>yes</td>\n",
       "      <td>Not placed</td>\n",
       "    </tr>\n",
       "    <tr>\n",
       "      <th>4</th>\n",
       "      <td>5</td>\n",
       "      <td>M</td>\n",
       "      <td>A</td>\n",
       "      <td>NaN</td>\n",
       "      <td>65.5</td>\n",
       "      <td>42.52</td>\n",
       "      <td>17</td>\n",
       "      <td>yes</td>\n",
       "      <td>Not placed</td>\n",
       "    </tr>\n",
       "  </tbody>\n",
       "</table>\n",
       "</div>"
      ],
      "text/plain": [
       "   Roll No Gender Section  SSC Percentage  inter_Diploma_percentage  \\\n",
       "0        1      M       A            87.3                      65.3   \n",
       "1        2      F       A            89.0                      92.4   \n",
       "2        3      F       A            67.0                      68.0   \n",
       "3        4      M       A            71.0                      70.4   \n",
       "4        5      M       A             NaN                      65.5   \n",
       "\n",
       "   B.Tech_percentage  Backlogs registered_for_ Placement_Training  \\\n",
       "0              40.00        18                                 NO   \n",
       "1              71.45         0                                yes   \n",
       "2              45.26        13                                yes   \n",
       "3              36.47        17                                yes   \n",
       "4              42.52        17                                yes   \n",
       "\n",
       "  placement status  \n",
       "0       Not placed  \n",
       "1           Placed  \n",
       "2       Not placed  \n",
       "3       Not placed  \n",
       "4       Not placed  "
      ]
     },
     "execution_count": 120,
     "metadata": {},
     "output_type": "execute_result"
    }
   ],
   "source": [
    "df=pd.read_csv(\"students_placement_data.csv\")\n",
    "df.head()"
   ]
  },
  {
   "cell_type": "markdown",
   "metadata": {},
   "source": [
    "## 1) Central Tendency- Mean, Median, Mode\n"
   ]
  },
  {
   "cell_type": "markdown",
   "metadata": {},
   "source": [
    "### 1.1) Calculate the mean & median of SSC Percentage,inter_Diploma_percentage and B.Tech_percentage"
   ]
  },
  {
   "cell_type": "code",
   "execution_count": 121,
   "metadata": {},
   "outputs": [
    {
     "name": "stdout",
     "output_type": "stream",
     "text": [
      "Mean of SSC score 80.47456896551722\n",
      "Mean of inter_Diploma score 80.77290598290598\n",
      "Mean of B.Tech score 62.9434188034188\n",
      "\n",
      "\n",
      "Median of SSC score 82.745\n",
      "Median of inter_Diploma score 83.6\n",
      "Median of B.Tech score 64.36\n"
     ]
    }
   ],
   "source": [
    "print(\"Mean of SSC score\",df[\"SSC Percentage\"].mean())\n",
    "print(\"Mean of inter_Diploma score\",df[\"inter_Diploma_percentage\"].mean())\n",
    "print(\"Mean of B.Tech score\",df[\"B.Tech_percentage\"].mean())\n",
    "\n",
    "print(\"\\n\")\n",
    "\n",
    "print(\"Median of SSC score\",df[\"SSC Percentage\"].median())\n",
    "print(\"Median of inter_Diploma score\",df[\"inter_Diploma_percentage\"].median())\n",
    "print(\"Median of B.Tech score\",df[\"B.Tech_percentage\"].median())"
   ]
  },
  {
   "cell_type": "markdown",
   "metadata": {},
   "source": [
    "### 1.2) Apply mode on Gender. Are there more male or female?"
   ]
  },
  {
   "cell_type": "code",
   "execution_count": 122,
   "metadata": {},
   "outputs": [
    {
     "data": {
      "text/plain": [
       "0    M\n",
       "dtype: object"
      ]
     },
     "execution_count": 122,
     "metadata": {},
     "output_type": "execute_result"
    }
   ],
   "source": [
    "df[\"Gender\"].mode()"
   ]
  },
  {
   "cell_type": "markdown",
   "metadata": {},
   "source": [
    "## 2) Distribution of Data- Range, Interquartile range, Variance, Standard deviation, Correlation."
   ]
  },
  {
   "cell_type": "markdown",
   "metadata": {},
   "source": [
    "### 2.1) Range\n",
    "Range defines the difference between maximum and minimum value.\n",
    "\n",
    "#### What is the range of SSC Percentage, inter_Diploma_percentage and B.Tech_percentage"
   ]
  },
  {
   "cell_type": "code",
   "execution_count": 123,
   "metadata": {},
   "outputs": [
    {
     "name": "stdout",
     "output_type": "stream",
     "text": [
      "Range in SSC Score Range SSC Percentage    45.86\n",
      "dtype: float64\n",
      "Range in inter Diploma Score Range inter_Diploma_percentage    44.7\n",
      "dtype: float64\n",
      "Range in B.Tech Score range B.Tech_percentage    56.9\n",
      "dtype: float64\n"
     ]
    }
   ],
   "source": [
    "print(\"Range in SSC Score Range\",df[[\"SSC Percentage\"]].max()-df[[\"SSC Percentage\"]].min())\n",
    "print(\"Range in inter Diploma Score Range\",df[[\"inter_Diploma_percentage\"]].max()-df[[\"inter_Diploma_percentage\"]].min())\n",
    "print(\"Range in B.Tech Score range\",df[[\"B.Tech_percentage\"]].max()-df[[\"B.Tech_percentage\"]].min())"
   ]
  },
  {
   "cell_type": "markdown",
   "metadata": {},
   "source": [
    "### 2.2) Interquartile range\n",
    "Interquartile range is difference between 25th percentile element and 75th element. This is considered important because, elements less than or greater than this range may have outliers.\n",
    "#### Find the interquartile range of SSC percentage.\n"
   ]
  },
  {
   "cell_type": "code",
   "execution_count": 124,
   "metadata": {},
   "outputs": [
    {
     "name": "stdout",
     "output_type": "stream",
     "text": [
      "Quartile 1 is 76.6225\n",
      "Quartile 3 is 87.025\n",
      "The interquartile range is 10.402500000000003\n"
     ]
    }
   ],
   "source": [
    "Q1 = df['SSC Percentage'].quantile(0.25)\n",
    "print(\"Quartile 1 is\" ,Q1)\n",
    "\n",
    "Q3 = df['SSC Percentage'].quantile(0.75)\n",
    "print(\"Quartile 3 is\", Q3)\n",
    "\n",
    "IQR = Q3 - Q1\n",
    "print(\"The interquartile range is\",IQR)"
   ]
  },
  {
   "cell_type": "markdown",
   "metadata": {},
   "source": [
    "### 2.3) Standard deviation\n",
    "It indicates how data is spread. A low standard deviation means that the data observations tend to be very close to the mean, while a high standard deviation indicates that the data are spread out over a large range of values. \n",
    "\n",
    "#### Find the standard deviation of SSC Percentage,inter_Diploma_percentage and B.Tech_percentage."
   ]
  },
  {
   "cell_type": "code",
   "execution_count": 125,
   "metadata": {},
   "outputs": [
    {
     "name": "stdout",
     "output_type": "stream",
     "text": [
      "Standard deviation of SSC Score is : 8.836078944698352\n",
      "Standard deviation of inter Diploma Score is : 11.26724785566931\n",
      "Standard deviation of B.Tech Score is : 12.064305584885746\n"
     ]
    }
   ],
   "source": [
    "print(\"Standard deviation of SSC Score is :\",df['SSC Percentage'].std())\n",
    "print(\"Standard deviation of inter Diploma Score is :\",df['inter_Diploma_percentage'].std())\n",
    "print(\"Standard deviation of B.Tech Score is :\",df['B.Tech_percentage'].std())"
   ]
  },
  {
   "cell_type": "markdown",
   "metadata": {},
   "source": [
    "### 2.4) Variance\n",
    "Variance is simple square of standard deviation.\n",
    "\n",
    "#### Find the variance of SSC Percentage,inter_Diploma_percentage and B.Tech_percentage."
   ]
  },
  {
   "cell_type": "code",
   "execution_count": 126,
   "metadata": {},
   "outputs": [
    {
     "name": "stdout",
     "output_type": "stream",
     "text": [
      "Variance of SSC Score is : 78.07629111694153\n",
      "Variance of inter Diploma Score is : 126.95087424108468\n",
      "Variance of B.Tech Score is : 12.064305584885746\n"
     ]
    }
   ],
   "source": [
    "print(\"Variance of SSC Score is :\",df['SSC Percentage'].var())\n",
    "print(\"Variance of inter Diploma Score is :\",df['inter_Diploma_percentage'].var())\n",
    "print(\"Variance of B.Tech Score is :\",df['B.Tech_percentage'].std())"
   ]
  },
  {
   "cell_type": "markdown",
   "metadata": {},
   "source": [
    "### 2.5) Correlation\n",
    "\n",
    "\n",
    "Correlation shows us both, the direction and magnitude of how two quantities vary with each other. The value of the correlation coefficient ranges from [-1 to 1]. -1 stand for the negative relationship. 1\n",
    "means a positive relationship. 0 means no relationship.\n",
    "\n",
    "#### Find the correlation between SSC Percentage , inter_Diploma_percentage and B.Tech Percentages\n"
   ]
  },
  {
   "cell_type": "code",
   "execution_count": 127,
   "metadata": {},
   "outputs": [
    {
     "data": {
      "text/html": [
       "<div>\n",
       "<style scoped>\n",
       "    .dataframe tbody tr th:only-of-type {\n",
       "        vertical-align: middle;\n",
       "    }\n",
       "\n",
       "    .dataframe tbody tr th {\n",
       "        vertical-align: top;\n",
       "    }\n",
       "\n",
       "    .dataframe thead th {\n",
       "        text-align: right;\n",
       "    }\n",
       "</style>\n",
       "<table border=\"1\" class=\"dataframe\">\n",
       "  <thead>\n",
       "    <tr style=\"text-align: right;\">\n",
       "      <th></th>\n",
       "      <th>SSC Percentage</th>\n",
       "      <th>inter_Diploma_percentage</th>\n",
       "      <th>B.Tech_percentage</th>\n",
       "    </tr>\n",
       "  </thead>\n",
       "  <tbody>\n",
       "    <tr>\n",
       "      <th>SSC Percentage</th>\n",
       "      <td>1.000000</td>\n",
       "      <td>0.625586</td>\n",
       "      <td>0.492849</td>\n",
       "    </tr>\n",
       "    <tr>\n",
       "      <th>inter_Diploma_percentage</th>\n",
       "      <td>0.625586</td>\n",
       "      <td>1.000000</td>\n",
       "      <td>0.729697</td>\n",
       "    </tr>\n",
       "    <tr>\n",
       "      <th>B.Tech_percentage</th>\n",
       "      <td>0.492849</td>\n",
       "      <td>0.729697</td>\n",
       "      <td>1.000000</td>\n",
       "    </tr>\n",
       "  </tbody>\n",
       "</table>\n",
       "</div>"
      ],
      "text/plain": [
       "                          SSC Percentage  inter_Diploma_percentage  \\\n",
       "SSC Percentage                  1.000000                  0.625586   \n",
       "inter_Diploma_percentage        0.625586                  1.000000   \n",
       "B.Tech_percentage               0.492849                  0.729697   \n",
       "\n",
       "                          B.Tech_percentage  \n",
       "SSC Percentage                     0.492849  \n",
       "inter_Diploma_percentage           0.729697  \n",
       "B.Tech_percentage                  1.000000  "
      ]
     },
     "execution_count": 127,
     "metadata": {},
     "output_type": "execute_result"
    }
   ],
   "source": [
    "df[[\"SSC Percentage\",\"inter_Diploma_percentage\",\"B.Tech_percentage\"]].corr()"
   ]
  },
  {
   "cell_type": "markdown",
   "metadata": {},
   "source": [
    "## 3) Draw a box plot to demonstrate Range, Interquartile range.\n",
    "\n",
    "A boxplot, also called a box and whisker plot, is a way to show the spread and centres of a data set. Measures of spread include the interquartile range and the mean of the data set. Measures of centres is median (the middle of a data set).\n",
    "\n",
    "#### Use box plot to explain the performance of placed vs unplaced students in B.Tech."
   ]
  },
  {
   "cell_type": "code",
   "execution_count": 128,
   "metadata": {},
   "outputs": [
    {
     "data": {
      "text/plain": [
       "<matplotlib.axes._subplots.AxesSubplot at 0x1fc3da895f8>"
      ]
     },
     "execution_count": 128,
     "metadata": {},
     "output_type": "execute_result"
    },
    {
     "data": {
      "image/png": "[encoded data removed]",
      "text/plain": [
       "<Figure size 432x288 with 1 Axes>"
      ]
     },
     "metadata": {
      "needs_background": "light"
     },
     "output_type": "display_data"
    }
   ],
   "source": [
    "sns.boxplot(x=\"placement status\",y=\"B.Tech_percentage\", data=df)"
   ]
  },
  {
   "cell_type": "markdown",
   "metadata": {},
   "source": [
    "It is clearly visible that placed students are performing better than unplaced students. Their min, q1, q3, median ,max are all greater that unplaced students.\n",
    "\n",
    "* The range for unplaced students is approximatly 32 to 75\n",
    "* The range for placed students is approximatly 65 to 88\n",
    "* The interqurtile range for unplaced students is approximalty 55 to 65\n",
    "* The interqurtile range for placed students is approximalty 55 to 65\n",
    "\n",
    "By visual inspection\n",
    "\n",
    "\n"
   ]
  },
  {
   "cell_type": "markdown",
   "metadata": {},
   "source": [
    "## 4) Show correlation between 2 variables using scatter plot.\n",
    "\n",
    "It may be difficult to tell exact correlation value between 2 variables. But we can easily tell if the two variables are +ve correlated or -ve correlated or not correlated.\n",
    "\n",
    "#### Find the correlation between SSC percentage and inter_Diploma_percentage by visual inspection using scatter plot. What type of correlation do they have between them?"
   ]
  },
  {
   "cell_type": "code",
   "execution_count": 129,
   "metadata": {},
   "outputs": [
    {
     "data": {
      "text/plain": [
       "<matplotlib.collections.PathCollection at 0x1fc3db2bb38>"
      ]
     },
     "execution_count": 129,
     "metadata": {},
     "output_type": "execute_result"
    },
    {
     "data": {
      "image/png": "[encoded data removed]",
      "text/plain": [
       "<Figure size 432x288 with 1 Axes>"
      ]
     },
     "metadata": {
      "needs_background": "light"
     },
     "output_type": "display_data"
    }
   ],
   "source": [
    "plt.scatter(df[\"SSC Percentage\"],df[\"inter_Diploma_percentage\"])"
   ]
  },
  {
   "cell_type": "markdown",
   "metadata": {},
   "source": [
    "There seems to be a clear +ve correlation between SSC Percentage and inter_Diploma_percentage"
   ]
  },
  {
   "cell_type": "markdown",
   "metadata": {},
   "source": [
    "## 5) Draw histogram to show how data is distributed."
   ]
  },
  {
   "cell_type": "markdown",
   "metadata": {},
   "source": [
    "### 5.1) Draw a histogram to show the distribution of SSC percentage. Most of the people got score in which range?"
   ]
  },
  {
   "cell_type": "code",
   "execution_count": 130,
   "metadata": {},
   "outputs": [
    {
     "name": "stdout",
     "output_type": "stream",
     "text": [
      "[  0.  10.  20.  30.  40.  50.  60.  70.  80.  90. 100.]\n"
     ]
    },
    {
     "data": {
      "text/plain": [
       "Text(0.5, 0, 'SSC Percentage')"
      ]
     },
     "execution_count": 130,
     "metadata": {},
     "output_type": "execute_result"
    },
    {
     "data": {
      "image/png": "[encoded data removed]",
      "text/plain": [
       "<Figure size 432x288 with 1 Axes>"
      ]
     },
     "metadata": {
      "needs_background": "light"
     },
     "output_type": "display_data"
    }
   ],
   "source": [
    "bins=np.linspace(0,100,11) # Generates 6 numbers between 0 and 10 which are equally spaced. \n",
    "print(bins)\n",
    "\n",
    "plt.hist(df[\"SSC Percentage\"],bins,width=9)\n",
    "plt.xlabel(\"SSC Percentage\")"
   ]
  },
  {
   "cell_type": "markdown",
   "metadata": {},
   "source": [
    "#### Most of the people got SSC percentage in range of 80-90."
   ]
  },
  {
   "cell_type": "markdown",
   "metadata": {},
   "source": [
    "### 5.2) Draw a histogram to show the distribution of B.Tech percentage. Most of the people got score in which range?"
   ]
  },
  {
   "cell_type": "code",
   "execution_count": 131,
   "metadata": {},
   "outputs": [
    {
     "name": "stdout",
     "output_type": "stream",
     "text": [
      "[  0.  10.  20.  30.  40.  50.  60.  70.  80.  90. 100.]\n"
     ]
    },
    {
     "data": {
      "text/plain": [
       "Text(0.5, 0, 'B.Tech_percentage')"
      ]
     },
     "execution_count": 131,
     "metadata": {},
     "output_type": "execute_result"
    },
    {
     "data": {
      "image/png": "[encoded data removed]",
      "text/plain": [
       "<Figure size 432x288 with 1 Axes>"
      ]
     },
     "metadata": {
      "needs_background": "light"
     },
     "output_type": "display_data"
    }
   ],
   "source": [
    "bins=np.linspace(0,100,11) # Generates 6 numbers between 0 and 10 which are equally spaced. \n",
    "print(bins)\n",
    "\n",
    "plt.hist(df[\"B.Tech_percentage\"],bins,width=9)\n",
    "plt.xlabel(\"B.Tech_percentage\")"
   ]
  },
  {
   "cell_type": "markdown",
   "metadata": {},
   "source": [
    "### Most of the people got B.Tech percentage in range of 70-80 and 60-70."
   ]
  },
  {
   "cell_type": "markdown",
   "metadata": {},
   "source": [
    "### 5.3) Draw a histogram to show the distribution of Intermediate percentage. Most of the people got score in which range?"
   ]
  },
  {
   "cell_type": "code",
   "execution_count": 132,
   "metadata": {},
   "outputs": [
    {
     "name": "stdout",
     "output_type": "stream",
     "text": [
      "[  0.  10.  20.  30.  40.  50.  60.  70.  80.  90. 100.]\n"
     ]
    },
    {
     "data": {
      "text/plain": [
       "Text(0.5, 0, 'inter_Diploma_percentage')"
      ]
     },
     "execution_count": 132,
     "metadata": {},
     "output_type": "execute_result"
    },
    {
     "data": {
      "image/png": "[encoded data removed]",
      "text/plain": [
       "<Figure size 432x288 with 1 Axes>"
      ]
     },
     "metadata": {
      "needs_background": "light"
     },
     "output_type": "display_data"
    }
   ],
   "source": [
    "bins=np.linspace(0,100,11) # Generates 6 numbers between 0 and 10 which are equally spaced. \n",
    "print(bins)\n",
    "\n",
    "plt.hist(df[\"inter_Diploma_percentage\"],bins,width=9)\n",
    "plt.xlabel(\"inter_Diploma_percentage\")"
   ]
  },
  {
   "cell_type": "markdown",
   "metadata": {},
   "source": [
    "#### Most of the people got intermediate percentage in range of 80-90."
   ]
  },
  {
   "cell_type": "markdown",
   "metadata": {},
   "source": [
    "## 6) For the given data, show which attributes as a) continuous b) Ordered c) Binary"
   ]
  },
  {
   "cell_type": "code",
   "execution_count": 133,
   "metadata": {},
   "outputs": [
    {
     "data": {
      "text/plain": [
       "Roll No                               117\n",
       "Gender                                  2\n",
       "Section                                 2\n",
       "SSC Percentage                         88\n",
       "inter_Diploma_percentage               99\n",
       "B.Tech_percentage                     106\n",
       "Backlogs                               22\n",
       "registered_for_ Placement_Training      2\n",
       "placement status                        2\n",
       "dtype: int64"
      ]
     },
     "execution_count": 133,
     "metadata": {},
     "output_type": "execute_result"
    }
   ],
   "source": [
    "df.nunique() # returns number of unique values in columns"
   ]
  },
  {
   "cell_type": "markdown",
   "metadata": {},
   "source": [
    "#### From the above data, it is clear that Gender ,Section ,registered_for_ Placement_Training , placement status   are binary attributes because they take only 2 values."
   ]
  },
  {
   "cell_type": "code",
   "execution_count": 134,
   "metadata": {},
   "outputs": [
    {
     "data": {
      "text/plain": [
       "Roll No                                 int64\n",
       "Gender                                 object\n",
       "Section                                object\n",
       "SSC Percentage                        float64\n",
       "inter_Diploma_percentage              float64\n",
       "B.Tech_percentage                     float64\n",
       "Backlogs                                int64\n",
       "registered_for_ Placement_Training     object\n",
       "placement status                       object\n",
       "dtype: object"
      ]
     },
     "execution_count": 134,
     "metadata": {},
     "output_type": "execute_result"
    }
   ],
   "source": [
    "df.dtypes"
   ]
  },
  {
   "cell_type": "markdown",
   "metadata": {},
   "source": [
    "Domain knowlege plays an important role in to decide the type of attribute. We can get some clue by checking the data types of columns. But here roll No is not continous. \n",
    "Math operations like a mean, median, min, max, etc, sum..are meaningful on continous attribute. And these operations are not meanigful in the case of roll number.\n",
    "\n",
    "SSC Percentage,inter_Diploma_percentage,B.Tech_percentage are continous and ordinal attributes\n",
    "\n",
    "Backlogs can be ordinal. It cannot take float value and there will be a limit on number of backlogs. "
   ]
  }
 ],
 "metadata": {
  "kernelspec": {
   "display_name": "Python 3",
   "language": "python",
   "name": "python3"
  },
  "language_info": {
   "codemirror_mode": {
    "name": "ipython",
    "version": 3
   },
   "file_extension": ".py",
   "mimetype": "text/x-python",
   "name": "python",
   "nbconvert_exporter": "python",
   "pygments_lexer": "ipython3",
   "version": "3.7.3"
  }
 },
 "nbformat": 4,
 "nbformat_minor": 2
}
