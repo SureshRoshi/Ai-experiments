{
 "cells": [
  {
   "cell_type": "markdown",
   "metadata": {},
   "source": [
    "# 1) NumPy \n",
    "* Different ways to create NumPy arrays \n",
    "* Add, remove, modify elements in an array. \n",
    "* Arithmetic operations on NumPy array \n",
    "* Slicing and iterating of NumPy arrays \n",
    "* Matrix operations on NumPy arrays \n"
   ]
  },
  {
   "cell_type": "markdown",
   "metadata": {},
   "source": [
    "## 1)Different ways to create a Numpy arrays."
   ]
  },
  {
   "cell_type": "code",
   "execution_count": 8,
   "metadata": {},
   "outputs": [
    {
     "name": "stdout",
     "output_type": "stream",
     "text": [
      "[1 2 3]\n"
     ]
    }
   ],
   "source": [
    "# Create a numpy array\n",
    "import numpy as np\n",
    "x = np.array([1,2,3])\n",
    "print(x)"
   ]
  },
  {
   "cell_type": "code",
   "execution_count": 9,
   "metadata": {},
   "outputs": [
    {
     "name": "stdout",
     "output_type": "stream",
     "text": [
      "[[4 5 6]\n",
      " [7 8 9]]\n"
     ]
    }
   ],
   "source": [
    "#  Create a 2d array\n",
    "y = np.array([[4,5,6],[7,8,9]])\n",
    "print(y)"
   ]
  },
  {
   "cell_type": "code",
   "execution_count": 10,
   "metadata": {},
   "outputs": [
    {
     "data": {
      "text/plain": [
       "array([10, 15, 20, 25])"
      ]
     },
     "execution_count": 10,
     "metadata": {},
     "output_type": "execute_result"
    }
   ],
   "source": [
    "# Craete a numpy array from 10 to 30 with intervel of 5\n",
    "import numpy as np\n",
    "np.arange( 10, 30, 5 )"
   ]
  },
  {
   "cell_type": "markdown",
   "metadata": {},
   "source": [
    "## 2) Add, remove, modify elements in an array."
   ]
  },
  {
   "cell_type": "markdown",
   "metadata": {},
   "source": [
    "### 2.1) Adding an element to an array"
   ]
  },
  {
   "cell_type": "code",
   "execution_count": 11,
   "metadata": {},
   "outputs": [
    {
     "name": "stdout",
     "output_type": "stream",
     "text": [
      "[1 2 3 6 4 2]\n"
     ]
    }
   ],
   "source": [
    "b = np.append(x,[6,4,2])\n",
    "print(b)"
   ]
  },
  {
   "cell_type": "markdown",
   "metadata": {},
   "source": [
    "### 2.2) Remove element/s from an array"
   ]
  },
  {
   "cell_type": "code",
   "execution_count": 15,
   "metadata": {},
   "outputs": [
    {
     "name": "stdout",
     "output_type": "stream",
     "text": [
      "The elements in X before deleting [1 2 3]\n",
      "The elements in X after deleting [1 2]\n"
     ]
    }
   ],
   "source": [
    "print(\"The elements in X before deleting\",x)\n",
    "newarray = np.delete(x,2) # Element at index 2 is removed.\n",
    "print(\"The elements in X after deleting\",newarray) "
   ]
  },
  {
   "cell_type": "markdown",
   "metadata": {},
   "source": [
    "### 2.3) Modify elements in the array"
   ]
  },
  {
   "cell_type": "code",
   "execution_count": 17,
   "metadata": {},
   "outputs": [
    {
     "name": "stdout",
     "output_type": "stream",
     "text": [
      "[ 6  4 -1 -1  5  9]\n"
     ]
    }
   ],
   "source": [
    "b = np.array([6,4,1,3,5,9])\n",
    "b[b<4] = -1 # Elements less than 4 are replaced with \"-1\"\n",
    "print(b)"
   ]
  },
  {
   "cell_type": "markdown",
   "metadata": {},
   "source": [
    "## 3) Arithmetic operations on NumPy array"
   ]
  },
  {
   "cell_type": "code",
   "execution_count": 27,
   "metadata": {},
   "outputs": [
    {
     "name": "stdout",
     "output_type": "stream",
     "text": [
      "The elements in a are [20 30 40 50]\n",
      "The elements in b are [0 1 2 3]\n",
      "Result after Addition [20 31 42 53]\n",
      "Result after substraction [20 29 38 47]\n",
      "Result after multiplication [  0  30  80 150]\n",
      "Result after division [        inf 30.         20.         16.66666667]\n",
      "Result after increasing the number to the power of 4 [ 0  1 16 81]\n",
      "Result after applying sin and multiplying with 10 [ 9.12945251 -9.88031624  7.4511316  -2.62374854]\n",
      "Result after adding first element with 10 [30 30 40 50]\n",
      "260\n"
     ]
    },
    {
     "name": "stderr",
     "output_type": "stream",
     "text": [
      "<ipython-input-27-fb6e41aaac66>:10: RuntimeWarning: divide by zero encountered in true_divide\n",
      "  print(\"Result after division\",a/b) # Even python is able to handle divided by 0 error by just a warning\n"
     ]
    }
   ],
   "source": [
    "# Let's create two arrays\n",
    "a = np.array( [20,30,40,50] )\n",
    "b = np.arange( 4 )\n",
    "print(\"The elements in a are\",a)\n",
    "print(\"The elements in b are\",b)\n",
    "\n",
    "print(\"Result after Addition\",a+b)\n",
    "print(\"Result after substraction\",a-b)\n",
    "print(\"Result after multiplication\",a*b)\n",
    "print(\"Result after division\",a/b) # Even python is able to handle divided by 0 error by just a warning\n",
    "\n",
    "print(\"Result after increasing the number to the power of 4\",b**4) # Scalar multiplication(power)\n",
    "\n",
    "print(\"Result after applying sin and multiplying with 10\",10*np.sin(a)) # trignometric functions are available in numpy package\n",
    "\n",
    "a[0] +=10 # This is equalient to a[0]=a[0]+10\n",
    "print(\"Result after adding first element with 10\",a)\n",
    "\n",
    "print(np.dot(a,b)) # Matrix multiplication"
   ]
  },
  {
   "cell_type": "markdown",
   "metadata": {},
   "source": [
    "## 4) Slicing and iterating of NumPy arrays"
   ]
  },
  {
   "cell_type": "markdown",
   "metadata": {},
   "source": [
    "### 4.1) Slicing 1-D array"
   ]
  },
  {
   "cell_type": "code",
   "execution_count": 48,
   "metadata": {},
   "outputs": [
    {
     "name": "stdout",
     "output_type": "stream",
     "text": [
      "Let's consider the elements [  0   1   8  27  64 125 216 343 512 729]\n",
      "The output of a[2] is 8\n",
      "The output of a[2:4] is [ 8 27]\n",
      "The output of a[2:3] is [8]\n",
      "The output of a[-1] is 729\n",
      "The output of a[-2] is 512\n",
      "The output of a[-5:-2] is [125 216 343]\n"
     ]
    }
   ],
   "source": [
    "# Slicing a 1-D array\n",
    "\n",
    "a=np.arange(10)**3\n",
    "print(\"Let's consider the elements\",a)\n",
    "\n",
    "print(\"The output of a[2] is\", a[2]) # Prints the element at index 2. i.e 3rd element of the array a\n",
    "print(\"The output of a[2:4] is\",a[2:4]) # Prints the element from index 2 to index 3. Note that a[2:4] means elements from 2 upto 4 (But not including 4).\n",
    "print(\"The output of a[2:3] is\",a[2:3]) # Note that this returns an array with 1 element. But a[2] returns a scalar element\n",
    "\n",
    "print(\"The output of a[-1] is\",a[-1]) # prints last element\n",
    "print(\"The output of a[-2] is\",a[-2]) # prints last but element\n",
    "print(\"The output of a[-5:-2] is\",a[-5:-2]) # prints 5th ,6th and 7th element. i.e -5,-4,-3"
   ]
  },
  {
   "cell_type": "markdown",
   "metadata": {},
   "source": [
    "### 4.1) Slicing 2-D array"
   ]
  },
  {
   "cell_type": "code",
   "execution_count": 50,
   "metadata": {},
   "outputs": [
    {
     "name": "stdout",
     "output_type": "stream",
     "text": [
      "The output of a[2] is [[  0   1   4]\n",
      " [  9  16  25]\n",
      " [ 36  49  64]\n",
      " [ 81 100 121]]\n",
      "The output of a[1:3] is [[ 9 16 25]\n",
      " [36 49 64]]\n",
      "The output of a[1:3,1:2] is [[16]\n",
      " [49]]\n",
      "The output of a[2,] is [36 49 64]\n",
      "The output of a[:3,] is [[ 0  1  4]\n",
      " [ 9 16 25]\n",
      " [36 49 64]]\n",
      "The output of a[-1,] is [ 81 100 121]\n",
      "The output of a[-1,-1] is 121\n"
     ]
    }
   ],
   "source": [
    "# Slicing a 2-D array\n",
    "\n",
    "a=np.arange(12).reshape(4,3)**2 # Create an array \"a\" with square of numbers from 0 to 11.\n",
    "print(\"The output of a[2] is\",a)\n",
    "\n",
    "print(\"The output of a[1:3] is\",a[1:3]) # Prints second and third rows\n",
    "print(\"The output of a[1:3,1:2] is\",a[1:3,1:2]) # from second and third rows, print second column\n",
    "print(\"The output of a[2,] is\",a[2,])# print 3rd row\n",
    "print(\"The output of a[:3,] is\",a[:3,])# print 1st, 2nd and 3rd row\n",
    "\n",
    "print(\"The output of a[-1,] is\",a[-1,]) # Prints last row\n",
    "print(\"The output of a[-1,-1] is\",a[-1,-1]) # print element at last row and last column\n"
   ]
  },
  {
   "cell_type": "markdown",
   "metadata": {},
   "source": [
    "### 4.3) Iterating\n",
    "Iterating over multidimensional arrays is done with respect to the first axis."
   ]
  },
  {
   "cell_type": "code",
   "execution_count": 55,
   "metadata": {},
   "outputs": [
    {
     "name": "stdout",
     "output_type": "stream",
     "text": [
      "Let's consider an array [[  0   1   4]\n",
      " [  9  16  25]\n",
      " [ 36  49  64]\n",
      " [ 81 100 121]]\n",
      "\n",
      "\n",
      "[0 1 4]\n",
      "[ 9 16 25]\n",
      "[36 49 64]\n",
      "[ 81 100 121]\n"
     ]
    }
   ],
   "source": [
    "a=np.arange(12).reshape(4,3)**2 # Create an array \"a\" with square of numbers from 0 to 11.\n",
    "print(\"Let's consider an array\",a)\n",
    "print(\"\\n\")\n",
    "for i in a:\n",
    "    print(i)"
   ]
  },
  {
   "cell_type": "markdown",
   "metadata": {},
   "source": [
    "## 5)Matrix operations on NumPy arrays"
   ]
  },
  {
   "cell_type": "code",
   "execution_count": 65,
   "metadata": {},
   "outputs": [
    {
     "name": "stdout",
     "output_type": "stream",
     "text": [
      "Let's consider a 1-D array\n",
      " [[6. 2. 4. 5.]\n",
      " [1. 0. 6. 4.]\n",
      " [1. 7. 4. 8.]]\n",
      "After reshaping to 2 by 6 matrix\n",
      " [[6. 2. 4. 5. 1. 0.]\n",
      " [6. 4. 1. 7. 4. 8.]]\n",
      "To Flatten the array\n",
      " [6. 2. 4. 5. 1. 0. 6. 4. 1. 7. 4. 8.]\n",
      "To transpose the array\n",
      " [[6. 1. 1.]\n",
      " [2. 0. 7.]\n",
      " [4. 6. 4.]\n",
      " [5. 4. 8.]]\n"
     ]
    }
   ],
   "source": [
    "a=np.floor(10*np.random.random((3,4))) # Create a rondom 3*4 matrix.\n",
    "print(\"Let's consider a 1-D array\\n\",a)\n",
    "print(\"After reshaping to 2 by 6 matrix\\n\",a.reshape(2,6))\n",
    "print(\"To Flatten the array\\n\",a.ravel())\n",
    "print(\"To transpose the array\\n\",a.T)"
   ]
  },
  {
   "cell_type": "code",
   "execution_count": null,
   "metadata": {},
   "outputs": [],
   "source": []
  }
 ],
 "metadata": {
  "kernelspec": {
   "display_name": "Python 3",
   "language": "python",
   "name": "python3"
  },
  "language_info": {
   "codemirror_mode": {
    "name": "ipython",
    "version": 3
   },
   "file_extension": ".py",
   "mimetype": "text/x-python",
   "name": "python",
   "nbconvert_exporter": "python",
   "pygments_lexer": "ipython3",
   "version": "3.8.3"
  }
 },
 "nbformat": 4,
 "nbformat_minor": 4
}
